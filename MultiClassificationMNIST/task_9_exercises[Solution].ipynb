{
  "nbformat": 4,
  "nbformat_minor": 0,
  "metadata": {
    "kernelspec": {
      "display_name": "Python 3",
      "language": "python",
      "name": "python3"
    },
    "language_info": {
      "codemirror_mode": {
        "name": "ipython",
        "version": 3
      },
      "file_extension": ".py",
      "mimetype": "text/x-python",
      "name": "python",
      "nbconvert_exporter": "python",
      "pygments_lexer": "ipython3",
      "version": "3.8.5"
    },
    "colab": {
      "provenance": [],
      "collapsed_sections": [
        "ujnFWm-RrTBx",
        "ds_FKkd8rTB1",
        "-jzw9z22rTB2",
        "oJRRCJzXrTB4",
        "hBHF2iJWrTB5",
        "Xm6cFW72rTB6",
        "7wdHyF8urTB6",
        "CRVGta9irTB9",
        "nJcwu7UfrTB-",
        "ymiEXPfprTB-",
        "7kqvQk1qrTB_"
      ]
    }
  },
  "cells": [
    {
      "cell_type": "markdown",
      "metadata": {
        "id": "vxs2h6RArTBa"
      },
      "source": [
        "# shAI Training 2022 | Level 1\n",
        "\n",
        "\n",
        "## Task#9 (MNIST Project part 2)\n",
        "\n",
        "### Classification\n",
        "\n",
        "- Before you start make sure you have latest Jupyter notebook version \n",
        "- <font color= red> If you have older version fetching the data might be different  </font>  \n"
      ]
    },
    {
      "cell_type": "code",
      "metadata": {
        "id": "dR41tAaxrTBi",
        "colab": {
          "base_uri": "https://localhost:8080/"
        },
        "outputId": "727e2a5a-e42c-4c9e-9dbb-be6226263660"
      },
      "source": [
        "import sklearn.datasets\n",
        "from sklearn.datasets import fetch_openml\n",
        "mnist =fetch_openml('mnist_784')\n",
        "x, y = mnist[\"data\"], mnist[\"target\"]"
      ],
      "execution_count": 16,
      "outputs": [
        {
          "output_type": "stream",
          "name": "stderr",
          "text": [
            "/usr/local/lib/python3.10/dist-packages/sklearn/datasets/_openml.py:968: FutureWarning: The default value of `parser` will change from `'liac-arff'` to `'auto'` in 1.4. You can set `parser='auto'` to silence this warning. Therefore, an `ImportError` will be raised from 1.4 if the dataset is dense and pandas is not installed. Note that the pandas parser may return different data types. See the Notes Section in fetch_openml's API doc for details.\n",
            "  warn(\n"
          ]
        }
      ]
    },
    {
      "cell_type": "markdown",
      "metadata": {
        "id": "cNzsxLvArTBk"
      },
      "source": [
        "#### peek at one digit"
      ]
    },
    {
      "cell_type": "code",
      "metadata": {
        "id": "DXg7k2bXrTBl"
      },
      "source": [
        "import matplotlib\n",
        "import matplotlib.pyplot as plt\n",
        "import numpy as np"
      ],
      "execution_count": 17,
      "outputs": []
    },
    {
      "cell_type": "code",
      "source": [
        "some_digit = np.array(x.iloc[40000])\n",
        "some_digit_image = some_digit.reshape(28, 28)\n",
        "plt.imshow(some_digit_image, cmap = matplotlib.cm.binary,\n",
        "interpolation=\"nearest\")\n",
        "plt.axis(\"off\")\n",
        "plt.show()"
      ],
      "metadata": {
        "colab": {
          "base_uri": "https://localhost:8080/",
          "height": 406
        },
        "id": "ozpkjbIhTDIA",
        "outputId": "8ed37717-ab58-4106-92f2-9e7291b19a82"
      },
      "execution_count": 18,
      "outputs": [
        {
          "output_type": "display_data",
          "data": {
            "text/plain": [
              "<Figure size 640x480 with 1 Axes>"
            ],
            "image/png": "[encoded data removed]"
          },
          "metadata": {}
        }
      ]
    },
    {
      "cell_type": "code",
      "metadata": {
        "id": "DLJfdeOprTBn"
      },
      "source": [
        "import numpy as np \n",
        "x_train, x_test, y_train, y_test = x[:60000], x[60000:], y[:60000], y[60000:]\n",
        "shuffle_index = np.random.permutation(60000)\n",
        "x_train, y_train = x_train.loc[shuffle_index], y_train.loc[shuffle_index]"
      ],
      "execution_count": 19,
      "outputs": []
    },
    {
      "cell_type": "code",
      "metadata": {
        "id": "CNjuU8EvrTBo"
      },
      "source": [
        "from sklearn.linear_model import SGDClassifier\n",
        "sgd_clf = SGDClassifier(random_state=42)"
      ],
      "execution_count": 20,
      "outputs": []
    },
    {
      "cell_type": "markdown",
      "metadata": {
        "id": "BVw_S__2rTBp"
      },
      "source": [
        "#### Try SGDCClassifier with multiple calss"
      ]
    },
    {
      "cell_type": "code",
      "metadata": {
        "id": "sgnh6yNPrTBp",
        "outputId": "e006a42e-48a7-4918-f493-49819ec9b55a",
        "colab": {
          "base_uri": "https://localhost:8080/",
          "height": 75
        }
      },
      "source": [
        "# CODE HERE\n",
        "sgd_clf.fit(x_train,y_train)"
      ],
      "execution_count": 22,
      "outputs": [
        {
          "output_type": "execute_result",
          "data": {
            "text/plain": [
              "SGDClassifier(random_state=42)"
            ],
            "text/html": [
              "<style>#sk-container-id-2 {color: black;background-color: white;}#sk-container-id-2 pre{padding: 0;}#sk-container-id-2 div.sk-toggleable {background-color: white;}#sk-container-id-2 label.sk-toggleable__label {cursor: pointer;display: block;width: 100%;margin-bottom: 0;padding: 0.3em;box-sizing: border-box;text-align: center;}#sk-container-id-2 label.sk-toggleable__label-arrow:before {content: \"▸\";float: left;margin-right: 0.25em;color: #696969;}#sk-container-id-2 label.sk-toggleable__label-arrow:hover:before {color: black;}#sk-container-id-2 div.sk-estimator:hover label.sk-toggleable__label-arrow:before {color: black;}#sk-container-id-2 div.sk-toggleable__content {max-height: 0;max-width: 0;overflow: hidden;text-align: left;background-color: #f0f8ff;}#sk-container-id-2 div.sk-toggleable__content pre {margin: 0.2em;color: black;border-radius: 0.25em;background-color: #f0f8ff;}#sk-container-id-2 input.sk-toggleable__control:checked~div.sk-toggleable__content {max-height: 200px;max-width: 100%;overflow: auto;}#sk-container-id-2 input.sk-toggleable__control:checked~label.sk-toggleable__label-arrow:before {content: \"▾\";}#sk-container-id-2 div.sk-estimator input.sk-toggleable__control:checked~label.sk-toggleable__label {background-color: #d4ebff;}#sk-container-id-2 div.sk-label input.sk-toggleable__control:checked~label.sk-toggleable__label {background-color: #d4ebff;}#sk-container-id-2 input.sk-hidden--visually {border: 0;clip: rect(1px 1px 1px 1px);clip: rect(1px, 1px, 1px, 1px);height: 1px;margin: -1px;overflow: hidden;padding: 0;position: absolute;width: 1px;}#sk-container-id-2 div.sk-estimator {font-family: monospace;background-color: #f0f8ff;border: 1px dotted black;border-radius: 0.25em;box-sizing: border-box;margin-bottom: 0.5em;}#sk-container-id-2 div.sk-estimator:hover {background-color: #d4ebff;}#sk-container-id-2 div.sk-parallel-item::after {content: \"\";width: 100%;border-bottom: 1px solid gray;flex-grow: 1;}#sk-container-id-2 div.sk-label:hover label.sk-toggleable__label {background-color: #d4ebff;}#sk-container-id-2 div.sk-serial::before {content: \"\";position: absolute;border-left: 1px solid gray;box-sizing: border-box;top: 0;bottom: 0;left: 50%;z-index: 0;}#sk-container-id-2 div.sk-serial {display: flex;flex-direction: column;align-items: center;background-color: white;padding-right: 0.2em;padding-left: 0.2em;position: relative;}#sk-container-id-2 div.sk-item {position: relative;z-index: 1;}#sk-container-id-2 div.sk-parallel {display: flex;align-items: stretch;justify-content: center;background-color: white;position: relative;}#sk-container-id-2 div.sk-item::before, #sk-container-id-2 div.sk-parallel-item::before {content: \"\";position: absolute;border-left: 1px solid gray;box-sizing: border-box;top: 0;bottom: 0;left: 50%;z-index: -1;}#sk-container-id-2 div.sk-parallel-item {display: flex;flex-direction: column;z-index: 1;position: relative;background-color: white;}#sk-container-id-2 div.sk-parallel-item:first-child::after {align-self: flex-end;width: 50%;}#sk-container-id-2 div.sk-parallel-item:last-child::after {align-self: flex-start;width: 50%;}#sk-container-id-2 div.sk-parallel-item:only-child::after {width: 0;}#sk-container-id-2 div.sk-dashed-wrapped {border: 1px dashed gray;margin: 0 0.4em 0.5em 0.4em;box-sizing: border-box;padding-bottom: 0.4em;background-color: white;}#sk-container-id-2 div.sk-label label {font-family: monospace;font-weight: bold;display: inline-block;line-height: 1.2em;}#sk-container-id-2 div.sk-label-container {text-align: center;}#sk-container-id-2 div.sk-container {/* jupyter's `normalize.less` sets `[hidden] { display: none; }` but bootstrap.min.css set `[hidden] { display: none !important; }` so we also need the `!important` here to be able to override the default hidden behavior on the sphinx rendered scikit-learn.org. See: https://github.com/scikit-learn/scikit-learn/issues/21755 */display: inline-block !important;position: relative;}#sk-container-id-2 div.sk-text-repr-fallback {display: none;}</style><div id=\"sk-container-id-2\" class=\"sk-top-container\"><div class=\"sk-text-repr-fallback\"><pre>SGDClassifier(random_state=42)</pre><b>In a Jupyter environment, please rerun this cell to show the HTML representation or trust the notebook. <br />On GitHub, the HTML representation is unable to render, please try loading this page with nbviewer.org.</b></div><div class=\"sk-container\" hidden><div class=\"sk-item\"><div class=\"sk-estimator sk-toggleable\"><input class=\"sk-toggleable__control sk-hidden--visually\" id=\"sk-estimator-id-2\" type=\"checkbox\" checked><label for=\"sk-estimator-id-2\" class=\"sk-toggleable__label sk-toggleable__label-arrow\">SGDClassifier</label><div class=\"sk-toggleable__content\"><pre>SGDClassifier(random_state=42)</pre></div></div></div></div></div>"
            ]
          },
          "metadata": {},
          "execution_count": 22
        }
      ]
    },
    {
      "cell_type": "markdown",
      "metadata": {
        "id": "kE7UFx7OrTBr"
      },
      "source": [
        "#### Call decision_function() method to return score for each instance "
      ]
    },
    {
      "cell_type": "code",
      "metadata": {
        "id": "2pzYdm9UrTBs",
        "outputId": "2856134b-064d-4710-8248-7d3e24f7a1ac",
        "colab": {
          "base_uri": "https://localhost:8080/"
        }
      },
      "source": [
        "# CODE HERE\n",
        "decision_scores = sgd_clf.decision_function(some_digit.reshape(1, -1))\n",
        "decision_scores"
      ],
      "execution_count": 26,
      "outputs": [
        {
          "output_type": "stream",
          "name": "stderr",
          "text": [
            "/usr/local/lib/python3.10/dist-packages/sklearn/base.py:439: UserWarning: X does not have valid feature names, but SGDClassifier was fitted with feature names\n",
            "  warnings.warn(\n"
          ]
        },
        {
          "output_type": "execute_result",
          "data": {
            "text/plain": [
              "array([[-60662.16800139, -11458.59711082, -14969.59873885,\n",
              "         -9743.72459471, -22718.4774459 , -17876.57981248,\n",
              "        -43063.1002852 ,   6941.3818903 ,  -9888.90373872,\n",
              "         -5358.08215054]])"
            ]
          },
          "metadata": {},
          "execution_count": 26
        }
      ]
    },
    {
      "cell_type": "markdown",
      "metadata": {
        "id": "qORDmctWrTBt"
      },
      "source": [
        "#### find highest score "
      ]
    },
    {
      "cell_type": "code",
      "metadata": {
        "id": "snNAridYrTBu",
        "outputId": "69dd184c-5ef4-436a-f52a-912f045ceb00",
        "colab": {
          "base_uri": "https://localhost:8080/"
        }
      },
      "source": [
        "# CODE HERE\n",
        "highest_score_index = np.argmax(decision_scores)\n",
        "highest_score_index"
      ],
      "execution_count": 27,
      "outputs": [
        {
          "output_type": "execute_result",
          "data": {
            "text/plain": [
              "7"
            ]
          },
          "metadata": {},
          "execution_count": 27
        }
      ]
    },
    {
      "cell_type": "markdown",
      "metadata": {
        "id": "FPz3QrbArTBu"
      },
      "source": [
        "#### list the target classes"
      ]
    },
    {
      "cell_type": "code",
      "metadata": {
        "id": "qrS46yuirTBv",
        "outputId": "6bb92726-5ff4-4fad-c465-ac6b6313758c",
        "colab": {
          "base_uri": "https://localhost:8080/"
        }
      },
      "source": [
        "# CODE HERE\n",
        "target_classes = sgd_clf.classes_\n",
        "print(target_classes)\n"
      ],
      "execution_count": 28,
      "outputs": [
        {
          "output_type": "stream",
          "name": "stdout",
          "text": [
            "['0' '1' '2' '3' '4' '5' '6' '7' '8' '9']\n"
          ]
        }
      ]
    },
    {
      "cell_type": "markdown",
      "metadata": {
        "id": "2TbllQderTBv"
      },
      "source": [
        "#### Find the the target class for 7"
      ]
    },
    {
      "cell_type": "code",
      "metadata": {
        "id": "lfAWQnVprTBw",
        "outputId": "b3589fa7-1172-4233-c861-fa927cf3caed",
        "colab": {
          "base_uri": "https://localhost:8080/",
          "height": 36
        }
      },
      "source": [
        "# CODE HERE\n",
        "# if you got stuck use GOOGLE\n",
        "target_classes[7]"
      ],
      "execution_count": 31,
      "outputs": [
        {
          "output_type": "execute_result",
          "data": {
            "text/plain": [
              "'7'"
            ],
            "application/vnd.google.colaboratory.intrinsic+json": {
              "type": "string"
            }
          },
          "metadata": {},
          "execution_count": 31
        }
      ]
    },
    {
      "cell_type": "markdown",
      "metadata": {
        "id": "ujnFWm-RrTBx"
      },
      "source": [
        "#### Force ScikitLearn to use one-versus-one"
      ]
    },
    {
      "cell_type": "code",
      "metadata": {
        "id": "6zN2QYJ0rTBx"
      },
      "source": [
        "from sklearn.multiclass import OneVsOneClassifier"
      ],
      "execution_count": 32,
      "outputs": []
    },
    {
      "cell_type": "code",
      "metadata": {
        "id": "iI43bCZnrTBx",
        "outputId": "08dc2f0b-906c-4622-bbb8-3c6b5c3d2534",
        "colab": {
          "base_uri": "https://localhost:8080/"
        }
      },
      "source": [
        "# CODE HERE\n",
        "sgd_clf = SGDClassifier(random_state=42)\n",
        "\n",
        "# Create a OneVsOneClassifier and train it on the training data\n",
        "ovo_clf = OneVsOneClassifier(sgd_clf)\n",
        "ovo_clf.fit(x_train, y_train)\n",
        "\n",
        "# Now you can use the trained classifier to make predictions on the test data\n",
        "predictions = ovo_clf.predict(some_digit.reshape(1, -1))\n",
        "predictions "
      ],
      "execution_count": 33,
      "outputs": [
        {
          "output_type": "stream",
          "name": "stderr",
          "text": [
            "/usr/local/lib/python3.10/dist-packages/sklearn/base.py:439: UserWarning: X does not have valid feature names, but OneVsOneClassifier was fitted with feature names\n",
            "  warnings.warn(\n"
          ]
        },
        {
          "output_type": "execute_result",
          "data": {
            "text/plain": [
              "array(['7'], dtype=object)"
            ]
          },
          "metadata": {},
          "execution_count": 33
        }
      ]
    },
    {
      "cell_type": "markdown",
      "metadata": {
        "id": "kZcNpAenrTBy"
      },
      "source": [
        "#### find how many classifier OvO used"
      ]
    },
    {
      "cell_type": "code",
      "metadata": {
        "id": "Qj-h_2kOrTBy",
        "outputId": "5d1b5f46-efc4-49f9-c25d-eb93cdad0b5b",
        "colab": {
          "base_uri": "https://localhost:8080/"
        }
      },
      "source": [
        "# CODE HERE\n",
        "# n*(n-1)/2 = 10*(10-1)/2\n",
        "\n",
        "10*(10-1)/2"
      ],
      "execution_count": 36,
      "outputs": [
        {
          "output_type": "execute_result",
          "data": {
            "text/plain": [
              "45.0"
            ]
          },
          "metadata": {},
          "execution_count": 36
        }
      ]
    },
    {
      "cell_type": "code",
      "source": [
        "num_classifiers = len(ovo_clf.estimators_)\n",
        "print(num_classifiers)"
      ],
      "metadata": {
        "id": "ZYXGki3eYT1-",
        "outputId": "3ddff9ff-66a1-4ee5-d1e1-5a2f65e8c185",
        "colab": {
          "base_uri": "https://localhost:8080/"
        }
      },
      "execution_count": 35,
      "outputs": [
        {
          "output_type": "stream",
          "name": "stdout",
          "text": [
            "45\n"
          ]
        }
      ]
    },
    {
      "cell_type": "markdown",
      "metadata": {
        "id": "jY_URTfErTBz"
      },
      "source": [
        "#### Train  RandomForestClassifier "
      ]
    },
    {
      "cell_type": "code",
      "metadata": {
        "id": "ij6mGZvWrTBz"
      },
      "source": [
        "from sklearn.ensemble import RandomForestClassifier\n",
        "forest_clf = RandomForestClassifier(random_state=42)"
      ],
      "execution_count": 37,
      "outputs": []
    },
    {
      "cell_type": "code",
      "metadata": {
        "id": "mLvACTVkrTB0",
        "outputId": "7b98f3b7-2336-481c-e854-b4921b15a73f",
        "colab": {
          "base_uri": "https://localhost:8080/"
        }
      },
      "source": [
        "# CODE HERE\n",
        "forest_clf.fit(x_train, y_train)\n",
        "# Now you can use the trained classifier to make predictions on the test data\n",
        "predictions = forest_clf.predict(some_digit.reshape(1, -1))\n",
        "predictions \n"
      ],
      "execution_count": 39,
      "outputs": [
        {
          "output_type": "stream",
          "name": "stderr",
          "text": [
            "/usr/local/lib/python3.10/dist-packages/sklearn/base.py:439: UserWarning: X does not have valid feature names, but RandomForestClassifier was fitted with feature names\n",
            "  warnings.warn(\n"
          ]
        },
        {
          "output_type": "execute_result",
          "data": {
            "text/plain": [
              "array(['7'], dtype=object)"
            ]
          },
          "metadata": {},
          "execution_count": 39
        }
      ]
    },
    {
      "cell_type": "markdown",
      "metadata": {
        "id": "RAF55oQtrTB1"
      },
      "source": [
        "#### call predict_proba() to get the list of probabilities that the classifier assigned to each instance for each class"
      ]
    },
    {
      "cell_type": "code",
      "metadata": {
        "id": "Irh9e-QbrTB1",
        "colab": {
          "base_uri": "https://localhost:8080/"
        },
        "outputId": "533f200f-9280-4ffe-c06f-106892fb22dc"
      },
      "source": [
        "forest_clf.predict_proba([some_digit])"
      ],
      "execution_count": 41,
      "outputs": [
        {
          "output_type": "stream",
          "name": "stderr",
          "text": [
            "/usr/local/lib/python3.10/dist-packages/sklearn/base.py:439: UserWarning: X does not have valid feature names, but RandomForestClassifier was fitted with feature names\n",
            "  warnings.warn(\n"
          ]
        },
        {
          "output_type": "execute_result",
          "data": {
            "text/plain": [
              "array([[0., 0., 0., 0., 0., 0., 0., 1., 0., 0.]])"
            ]
          },
          "metadata": {},
          "execution_count": 41
        }
      ]
    },
    {
      "cell_type": "markdown",
      "metadata": {
        "id": "ds_FKkd8rTB1"
      },
      "source": [
        "#### Find accurcy using cross validation score ()"
      ]
    },
    {
      "cell_type": "code",
      "metadata": {
        "id": "R4OUbQutrTB2"
      },
      "source": [
        "from sklearn.model_selection import cross_val_score"
      ],
      "execution_count": 42,
      "outputs": []
    },
    {
      "cell_type": "code",
      "metadata": {
        "id": "r33tbcVurTB2",
        "outputId": "2c7640d1-44bf-4657-a493-147ac405af77",
        "colab": {
          "base_uri": "https://localhost:8080/"
        }
      },
      "source": [
        "# CODE HERE\n",
        "scores = cross_val_score(forest_clf, x_train, y_train, cv=3)\n",
        "\n",
        "# Print the scores\n",
        "print(scores)"
      ],
      "execution_count": 43,
      "outputs": [
        {
          "output_type": "stream",
          "name": "stdout",
          "text": [
            "[0.96515 0.966   0.9654 ]\n"
          ]
        }
      ]
    },
    {
      "cell_type": "markdown",
      "metadata": {
        "id": "-jzw9z22rTB2"
      },
      "source": [
        "#### to get better accurcy try scaling input"
      ]
    },
    {
      "cell_type": "code",
      "metadata": {
        "id": "Z87Bmth8rTB3"
      },
      "source": [
        "from sklearn.preprocessing import StandardScaler"
      ],
      "execution_count": 44,
      "outputs": []
    },
    {
      "cell_type": "code",
      "metadata": {
        "id": "ahuwFw8GrTB3",
        "outputId": "095ad606-1165-46a4-9955-165248418a06",
        "colab": {
          "base_uri": "https://localhost:8080/"
        }
      },
      "source": [
        "# CODE HERE\n",
        "# The scaling not necessary for RF model\n",
        "# but this the code\n",
        "\n",
        "scaler = StandardScaler()\n",
        "\n",
        "# Fit on the training data and transform it\n",
        "X_train_scaled = scaler.fit_transform(x_train)\n",
        "\n",
        "# Train your model on the scaled data\n",
        "forest_clf.fit(X_train_scaled, y_train)\n",
        "\n",
        "# If you want to make predictions on new data, don't forget to scale it first\n",
        "some_digit_scaled = scaler.transform(some_digit.reshape(1, -1))\n",
        "predictions = forest_clf.predict(some_digit_scaled)\n",
        "\n",
        "# To assess the accuracy, perform cross-validation on the scaled training set\n",
        "scores = cross_val_score(forest_clf, X_train_scaled, y_train, cv=5)\n",
        "\n",
        "print(scores)\n"
      ],
      "execution_count": 45,
      "outputs": [
        {
          "output_type": "stream",
          "name": "stderr",
          "text": [
            "/usr/local/lib/python3.10/dist-packages/sklearn/base.py:439: UserWarning: X does not have valid feature names, but StandardScaler was fitted with feature names\n",
            "  warnings.warn(\n"
          ]
        },
        {
          "output_type": "stream",
          "name": "stdout",
          "text": [
            "[0.96708333 0.9665     0.96675    0.96716667 0.96975   ]\n"
          ]
        }
      ]
    },
    {
      "cell_type": "markdown",
      "metadata": {
        "id": "hoevqgexrTB4"
      },
      "source": [
        "## Error Analysis"
      ]
    },
    {
      "cell_type": "markdown",
      "metadata": {
        "id": "oJRRCJzXrTB4"
      },
      "source": [
        "#### Take a look at the confusion matrix"
      ]
    },
    {
      "cell_type": "code",
      "metadata": {
        "id": "QjEb7wMMrTB4"
      },
      "source": [
        "from sklearn.model_selection import cross_val_predict\n",
        "from sklearn.metrics import confusion_matrix"
      ],
      "execution_count": 46,
      "outputs": []
    },
    {
      "cell_type": "code",
      "metadata": {
        "id": "dCNsUwlXrTB4",
        "outputId": "ac148a38-e515-49ea-ad8b-9dd1efba2add",
        "colab": {
          "base_uri": "https://localhost:8080/"
        }
      },
      "source": [
        "# CODE HERE\n",
        "y_pred = forest_clf.predict(scaler.transform(x_test))\n",
        "\n",
        "# Now you can compute the confusion matrix\n",
        "conf_matrix = confusion_matrix(y_test, y_pred)\n",
        "\n",
        "print(conf_matrix)"
      ],
      "execution_count": 49,
      "outputs": [
        {
          "output_type": "stream",
          "name": "stdout",
          "text": [
            "[[ 969    0    1    0    0    2    3    1    4    0]\n",
            " [   0 1124    1    2    1    3    2    0    1    1]\n",
            " [   7    0 1001    4    2    0    3    8    7    0]\n",
            " [   0    0   13  975    0    3    0    8    8    3]\n",
            " [   1    0    1    0  953    0    6    0    2   19]\n",
            " [   4    0    0   15    3  856    6    1    5    2]\n",
            " [   8    3    0    0    4    2  939    0    2    0]\n",
            " [   1    2   20    2    2    0    0  989    4    8]\n",
            " [   4    0    3    8    4    4    6    5  931    9]\n",
            " [   5    5    2   12   15    2    1    5    3  959]]\n"
          ]
        }
      ]
    },
    {
      "cell_type": "markdown",
      "metadata": {
        "id": "hBHF2iJWrTB5"
      },
      "source": [
        "#### using Matplotlib’s matshow() function look at an image representation of the confusion matrix"
      ]
    },
    {
      "cell_type": "code",
      "metadata": {
        "id": "_nMxOLjtrTB5",
        "outputId": "209d3bdb-1b50-40cd-945f-6990be48a2f7",
        "colab": {
          "base_uri": "https://localhost:8080/",
          "height": 437
        }
      },
      "source": [
        "# CODE HERE\n",
        "plt.matshow(conf_matrix, cmap=plt.cm.gray)\n",
        "plt.show()"
      ],
      "execution_count": 50,
      "outputs": [
        {
          "output_type": "display_data",
          "data": {
            "text/plain": [
              "<Figure size 480x480 with 1 Axes>"
            ],
            "image/png": "[encoded data removed]"
          },
          "metadata": {}
        }
      ]
    },
    {
      "cell_type": "markdown",
      "metadata": {
        "id": "Xm6cFW72rTB6"
      },
      "source": [
        "#### Dividing each value in the confusion matrix by the number of images in the corresponding class"
      ]
    },
    {
      "cell_type": "code",
      "metadata": {
        "id": "hNDkHceZrTB6"
      },
      "source": [
        "row_sums = conf_matrix.sum(axis=1, keepdims=True)\n",
        "norm_conf_mx = conf_matrix / row_sums"
      ],
      "execution_count": 51,
      "outputs": []
    },
    {
      "cell_type": "markdown",
      "metadata": {
        "id": "7wdHyF8urTB6"
      },
      "source": [
        "#### fill the diagonal with zeros to keep only the errors"
      ]
    },
    {
      "cell_type": "code",
      "metadata": {
        "scrolled": true,
        "id": "oSWl-lE7rTB7"
      },
      "source": [
        "# CODE HERE\n",
        "np.fill_diagonal(norm_conf_mx, 0)"
      ],
      "execution_count": 52,
      "outputs": []
    },
    {
      "cell_type": "code",
      "source": [
        "plt.matshow(norm_conf_mx, cmap=plt.cm.gray)\n",
        "plt.show()"
      ],
      "metadata": {
        "id": "7n2ys9N2coMP",
        "outputId": "b6eae574-07a4-4817-ab7f-a76290aca5c4",
        "colab": {
          "base_uri": "https://localhost:8080/",
          "height": 437
        }
      },
      "execution_count": 53,
      "outputs": [
        {
          "output_type": "display_data",
          "data": {
            "text/plain": [
              "<Figure size 480x480 with 1 Axes>"
            ],
            "image/png": "[encoded data removed]"
          },
          "metadata": {}
        }
      ]
    },
    {
      "cell_type": "code",
      "metadata": {
        "id": "D0l_VaVgrTB7"
      },
      "source": [
        "def plot_digits(instances, images_per_row=10, **options):\n",
        "    size = 28\n",
        "    images_per_row = min(len(instances), images_per_row)\n",
        "    images = [instance.reshape(size,size) for instance in instances]\n",
        "    n_rows = (len(instances) - 1) // images_per_row + 1\n",
        "    row_images = []\n",
        "    n_empty = n_rows * images_per_row - len(instances)\n",
        "    images.append(np.zeros((size, size * n_empty)))\n",
        "    for row in range(n_rows):\n",
        "        rimages = images[row * images_per_row : (row + 1) * images_per_row]\n",
        "        row_images.append(np.concatenate(rimages, axis=1))\n",
        "    image = np.concatenate(row_images, axis=0)\n",
        "    plt.imshow(image, cmap = matplotlib.cm.binary, **options)\n",
        "    plt.axis(\"off\")"
      ],
      "execution_count": 63,
      "outputs": []
    },
    {
      "cell_type": "code",
      "metadata": {
        "id": "2H_6XdKerTB8"
      },
      "source": [
        "cl_a, cl_b = '3', '5'\n",
        "\n",
        "X_aa = x_test[(y_test == cl_a) & (y_pred == cl_a)]\n",
        "X_ab = x_test[(y_test == cl_a) & (y_pred == cl_b)]\n",
        "X_ba = x_test[(y_test == cl_b) & (y_pred == cl_a)]\n",
        "X_bb = x_test[(y_test == cl_b) & (y_pred == cl_b)]\n"
      ],
      "execution_count": 101,
      "outputs": []
    },
    {
      "cell_type": "code",
      "source": [
        "print(type(X_aa[:25]), X_aa[:25].shape)\n",
        "print(type(X_ab[:25]), X_ab[:25].shape)\n",
        "print(type(X_ba[:25]), X_ba[:25].shape)\n",
        "print(type(X_bb[:25]), X_bb[:25].shape)"
      ],
      "metadata": {
        "id": "SYfVGAvjeulv",
        "outputId": "e04c0ccb-bc90-4a1e-fa96-4447ea59cbe7",
        "colab": {
          "base_uri": "https://localhost:8080/"
        }
      },
      "execution_count": 102,
      "outputs": [
        {
          "output_type": "stream",
          "name": "stdout",
          "text": [
            "<class 'pandas.core.frame.DataFrame'> (25, 784)\n",
            "<class 'pandas.core.frame.DataFrame'> (3, 784)\n",
            "<class 'pandas.core.frame.DataFrame'> (15, 784)\n",
            "<class 'pandas.core.frame.DataFrame'> (25, 784)\n"
          ]
        }
      ]
    },
    {
      "cell_type": "code",
      "source": [
        "plt.figure(figsize=(8,8))\n",
        "\n",
        "plt.subplot(221); plot_digits(X_aa[:25].values, images_per_row=5)\n",
        "plt.subplot(222); plot_digits(X_ab[:25].values, images_per_row=5)\n",
        "plt.subplot(223); plot_digits(X_ba[:25].values, images_per_row=5)\n",
        "plt.subplot(224); plot_digits(X_bb[:25].values, images_per_row=5)\n",
        "\n",
        "plt.show()"
      ],
      "metadata": {
        "id": "FozHmC0uezwD",
        "outputId": "d3313294-5b0b-45fa-fa5b-fbeae2b97b91",
        "colab": {
          "base_uri": "https://localhost:8080/",
          "height": 653
        }
      },
      "execution_count": 113,
      "outputs": [
        {
          "output_type": "display_data",
          "data": {
            "text/plain": [
              "<Figure size 800x800 with 4 Axes>"
            ],
            "image/png": "[encoded data removed]"
          },
          "metadata": {}
        }
      ]
    },
    {
      "cell_type": "markdown",
      "metadata": {
        "id": "dCLTtG50rTB9"
      },
      "source": [
        "## Multilabel Classification"
      ]
    },
    {
      "cell_type": "markdown",
      "metadata": {
        "id": "CRVGta9irTB9"
      },
      "source": [
        "#### creates a y_multilabel array containing two target labels for each digit image"
      ]
    },
    {
      "cell_type": "code",
      "metadata": {
        "id": "ImrC91BPrTB9",
        "outputId": "7c0afecb-74c1-41c4-e493-54c53fe9c28f",
        "colab": {
          "base_uri": "https://localhost:8080/",
          "height": 75
        }
      },
      "source": [
        "from sklearn.neighbors import KNeighborsClassifier\n",
        "# to make larger operation then convert to int\n",
        "y_train_int = y_train.astype(int)\n",
        "y_train_large = ((y_train_int  >= 7))\n",
        "y_train_odd = (y_train_int == 1)\n",
        "y_multilabel = np.c_[y_train_large, y_train_odd]\n",
        "knn_clf = KNeighborsClassifier()\n",
        "knn_clf.fit(x_train, y_multilabel)"
      ],
      "execution_count": 118,
      "outputs": [
        {
          "output_type": "execute_result",
          "data": {
            "text/plain": [
              "KNeighborsClassifier()"
            ],
            "text/html": [
              "<style>#sk-container-id-4 {color: black;background-color: white;}#sk-container-id-4 pre{padding: 0;}#sk-container-id-4 div.sk-toggleable {background-color: white;}#sk-container-id-4 label.sk-toggleable__label {cursor: pointer;display: block;width: 100%;margin-bottom: 0;padding: 0.3em;box-sizing: border-box;text-align: center;}#sk-container-id-4 label.sk-toggleable__label-arrow:before {content: \"▸\";float: left;margin-right: 0.25em;color: #696969;}#sk-container-id-4 label.sk-toggleable__label-arrow:hover:before {color: black;}#sk-container-id-4 div.sk-estimator:hover label.sk-toggleable__label-arrow:before {color: black;}#sk-container-id-4 div.sk-toggleable__content {max-height: 0;max-width: 0;overflow: hidden;text-align: left;background-color: #f0f8ff;}#sk-container-id-4 div.sk-toggleable__content pre {margin: 0.2em;color: black;border-radius: 0.25em;background-color: #f0f8ff;}#sk-container-id-4 input.sk-toggleable__control:checked~div.sk-toggleable__content {max-height: 200px;max-width: 100%;overflow: auto;}#sk-container-id-4 input.sk-toggleable__control:checked~label.sk-toggleable__label-arrow:before {content: \"▾\";}#sk-container-id-4 div.sk-estimator input.sk-toggleable__control:checked~label.sk-toggleable__label {background-color: #d4ebff;}#sk-container-id-4 div.sk-label input.sk-toggleable__control:checked~label.sk-toggleable__label {background-color: #d4ebff;}#sk-container-id-4 input.sk-hidden--visually {border: 0;clip: rect(1px 1px 1px 1px);clip: rect(1px, 1px, 1px, 1px);height: 1px;margin: -1px;overflow: hidden;padding: 0;position: absolute;width: 1px;}#sk-container-id-4 div.sk-estimator {font-family: monospace;background-color: #f0f8ff;border: 1px dotted black;border-radius: 0.25em;box-sizing: border-box;margin-bottom: 0.5em;}#sk-container-id-4 div.sk-estimator:hover {background-color: #d4ebff;}#sk-container-id-4 div.sk-parallel-item::after {content: \"\";width: 100%;border-bottom: 1px solid gray;flex-grow: 1;}#sk-container-id-4 div.sk-label:hover label.sk-toggleable__label {background-color: #d4ebff;}#sk-container-id-4 div.sk-serial::before {content: \"\";position: absolute;border-left: 1px solid gray;box-sizing: border-box;top: 0;bottom: 0;left: 50%;z-index: 0;}#sk-container-id-4 div.sk-serial {display: flex;flex-direction: column;align-items: center;background-color: white;padding-right: 0.2em;padding-left: 0.2em;position: relative;}#sk-container-id-4 div.sk-item {position: relative;z-index: 1;}#sk-container-id-4 div.sk-parallel {display: flex;align-items: stretch;justify-content: center;background-color: white;position: relative;}#sk-container-id-4 div.sk-item::before, #sk-container-id-4 div.sk-parallel-item::before {content: \"\";position: absolute;border-left: 1px solid gray;box-sizing: border-box;top: 0;bottom: 0;left: 50%;z-index: -1;}#sk-container-id-4 div.sk-parallel-item {display: flex;flex-direction: column;z-index: 1;position: relative;background-color: white;}#sk-container-id-4 div.sk-parallel-item:first-child::after {align-self: flex-end;width: 50%;}#sk-container-id-4 div.sk-parallel-item:last-child::after {align-self: flex-start;width: 50%;}#sk-container-id-4 div.sk-parallel-item:only-child::after {width: 0;}#sk-container-id-4 div.sk-dashed-wrapped {border: 1px dashed gray;margin: 0 0.4em 0.5em 0.4em;box-sizing: border-box;padding-bottom: 0.4em;background-color: white;}#sk-container-id-4 div.sk-label label {font-family: monospace;font-weight: bold;display: inline-block;line-height: 1.2em;}#sk-container-id-4 div.sk-label-container {text-align: center;}#sk-container-id-4 div.sk-container {/* jupyter's `normalize.less` sets `[hidden] { display: none; }` but bootstrap.min.css set `[hidden] { display: none !important; }` so we also need the `!important` here to be able to override the default hidden behavior on the sphinx rendered scikit-learn.org. See: https://github.com/scikit-learn/scikit-learn/issues/21755 */display: inline-block !important;position: relative;}#sk-container-id-4 div.sk-text-repr-fallback {display: none;}</style><div id=\"sk-container-id-4\" class=\"sk-top-container\"><div class=\"sk-text-repr-fallback\"><pre>KNeighborsClassifier()</pre><b>In a Jupyter environment, please rerun this cell to show the HTML representation or trust the notebook. <br />On GitHub, the HTML representation is unable to render, please try loading this page with nbviewer.org.</b></div><div class=\"sk-container\" hidden><div class=\"sk-item\"><div class=\"sk-estimator sk-toggleable\"><input class=\"sk-toggleable__control sk-hidden--visually\" id=\"sk-estimator-id-4\" type=\"checkbox\" checked><label for=\"sk-estimator-id-4\" class=\"sk-toggleable__label sk-toggleable__label-arrow\">KNeighborsClassifier</label><div class=\"sk-toggleable__content\"><pre>KNeighborsClassifier()</pre></div></div></div></div></div>"
            ]
          },
          "metadata": {},
          "execution_count": 118
        }
      ]
    },
    {
      "cell_type": "markdown",
      "metadata": {
        "id": "nJcwu7UfrTB-"
      },
      "source": [
        "#### find the prediction"
      ]
    },
    {
      "cell_type": "code",
      "metadata": {
        "id": "0n2fcDbArTB-",
        "outputId": "278a2694-f1aa-4719-d1ef-f926ee4a8cfa",
        "colab": {
          "base_uri": "https://localhost:8080/"
        }
      },
      "source": [
        "# CODE HERE\n",
        "y_test_int = y_test.astype(int)\n",
        "knn_clf.predict(x_test)"
      ],
      "execution_count": 119,
      "outputs": [
        {
          "output_type": "execute_result",
          "data": {
            "text/plain": [
              "array([[ True, False],\n",
              "       [False, False],\n",
              "       [False,  True],\n",
              "       ...,\n",
              "       [False, False],\n",
              "       [False, False],\n",
              "       [False, False]])"
            ]
          },
          "metadata": {},
          "execution_count": 119
        }
      ]
    },
    {
      "cell_type": "markdown",
      "metadata": {
        "id": "ymiEXPfprTB-"
      },
      "source": [
        "#### computes the average F1 score across all labels\n",
        "***Warning: the following cell may take a very long time (possibly hours depending on your hardware)***"
      ]
    },
    {
      "cell_type": "code",
      "metadata": {
        "id": "tOrUjiMgrTB-"
      },
      "source": [
        "#y_train_knn_pred = cross_val_predict(knn_clf, X_train, y_train, cv=3)\n",
        "#f1_score(y_train, y_train_knn_pred, average=\"macro\")"
      ],
      "execution_count": 120,
      "outputs": []
    },
    {
      "cell_type": "code",
      "source": [
        "y_train_knn_pred = cross_val_predict(knn_clf, x_train, y_train_int, cv=3)"
      ],
      "metadata": {
        "id": "H9BA6rz0kKxK"
      },
      "execution_count": 121,
      "outputs": []
    },
    {
      "cell_type": "code",
      "source": [
        "from sklearn.metrics import f1_score\n",
        "f1 = f1_score(y_train_int, y_train_knn_pred, average=\"macro\")\n",
        "print(\"F1 Score: \", f1)"
      ],
      "metadata": {
        "id": "NipXMJdhkUT_",
        "outputId": "ef3a30a7-d4db-420a-8c52-cf943cc4c563",
        "colab": {
          "base_uri": "https://localhost:8080/"
        }
      },
      "execution_count": 124,
      "outputs": [
        {
          "output_type": "stream",
          "name": "stdout",
          "text": [
            "F1 Score:  0.9682297692008254\n"
          ]
        }
      ]
    },
    {
      "cell_type": "markdown",
      "metadata": {
        "id": "cWLtvNU5rTB_"
      },
      "source": [
        "## Multioutput Classification\n"
      ]
    },
    {
      "cell_type": "code",
      "metadata": {
        "id": "2FS4erJ1rTB_"
      },
      "source": [
        "noise = np.random.randint(0, 100, (len(x_train), 784))\n",
        "X_train_mod = x_train + noise\n",
        "noise = np.random.randint(0, 100, (len(x_test), 784))\n",
        "X_test_mod = x_test + noise\n",
        "y_train_mod = x_train\n",
        "y_test_mod = x_test"
      ],
      "execution_count": 125,
      "outputs": []
    },
    {
      "cell_type": "markdown",
      "metadata": {
        "id": "7kqvQk1qrTB_"
      },
      "source": [
        "#### Let’s take a peek at an image from the test set"
      ]
    },
    {
      "cell_type": "code",
      "metadata": {
        "id": "jzaG_GAArTCA",
        "outputId": "0024629f-8313-4d30-e4e5-f2a27e316ec1",
        "colab": {
          "base_uri": "https://localhost:8080/",
          "height": 406
        }
      },
      "source": [
        "# CODE HERE\n",
        "image_instance = x_test.iloc[0].values  # If x_test is a DataFrame\n",
        "\n",
        "# Reshape it to a 28x28 array:\n",
        "image_instance = image_instance.reshape(28, 28)\n",
        "\n",
        "# Use imshow to display the image:\n",
        "plt.imshow(image_instance, cmap='binary')\n",
        "plt.axis('off')  # Optional: remove axes for visual clarity\n",
        "plt.show()"
      ],
      "execution_count": 127,
      "outputs": [
        {
          "output_type": "display_data",
          "data": {
            "text/plain": [
              "<Figure size 640x480 with 1 Axes>"
            ],
            "image/png": "[encoded data removed]"
          },
          "metadata": {}
        }
      ]
    },
    {
      "cell_type": "markdown",
      "metadata": {
        "id": "IsM8nCFCrTCA"
      },
      "source": [
        "# Congrats you've finished your first classification Project🥳 !\n",
        "# #shAI_Club"
      ]
    }
  ]
}