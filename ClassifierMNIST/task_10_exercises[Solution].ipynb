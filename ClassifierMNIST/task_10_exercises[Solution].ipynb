{
  "cells": [
    {
      "cell_type": "markdown",
      "metadata": {
        "id": "ZkJktfmLE-nN"
      },
      "source": [
        "# shAI Training 2023 | Level 1\n",
        "\n",
        "\n",
        "## Task#10 (MNIST Project)\n",
        "\n",
        "### Classification\n",
        "\n",
        "- Before you start make sure you have latest Jupyter notebook version \n",
        "- <font color= red> If you have older version fetching the data might be different  </font>  \n"
      ]
    },
    {
      "cell_type": "markdown",
      "metadata": {
        "id": "De-u5GX3E-nR"
      },
      "source": [
        "## Get tha dataset"
      ]
    },
    {
      "cell_type": "code",
      "execution_count": 33,
      "metadata": {
        "id": "LMWEWMJ8E-nS"
      },
      "outputs": [],
      "source": [
        "import sklearn.datasets"
      ]
    },
    {
      "cell_type": "code",
      "execution_count": 54,
      "metadata": {
        "id": "ZTOQrPr7E-nU",
        "colab": {
          "base_uri": "https://localhost:8080/"
        },
        "outputId": "8b465a1d-6611-45ba-a8d4-dce975542310"
      },
      "outputs": [
        {
          "output_type": "stream",
          "name": "stderr",
          "text": [
            "/usr/local/lib/python3.10/dist-packages/sklearn/datasets/_openml.py:968: FutureWarning: The default value of `parser` will change from `'liac-arff'` to `'auto'` in 1.4. You can set `parser='auto'` to silence this warning. Therefore, an `ImportError` will be raised from 1.4 if the dataset is dense and pandas is not installed. Note that the pandas parser may return different data types. See the Notes Section in fetch_openml's API doc for details.\n",
            "  warn(\n"
          ]
        }
      ],
      "source": [
        "# CODE HERE \n",
        "# IF you got stuck use GOOGLE \n",
        "from sklearn.datasets import fetch_openml\n",
        "\n",
        "# Load data from https://www.openml.org/d/554\n",
        "X, y = fetch_openml('mnist_784', version=1, return_X_y=True,as_frame=False)"
      ]
    },
    {
      "cell_type": "code",
      "source": [
        "len(X[0])"
      ],
      "metadata": {
        "colab": {
          "base_uri": "https://localhost:8080/"
        },
        "id": "i4N3tg-1beak",
        "outputId": "bc6a96bf-3898-4dd1-9bd2-1a65b2e98e4e"
      },
      "execution_count": 56,
      "outputs": [
        {
          "output_type": "execute_result",
          "data": {
            "text/plain": [
              "784"
            ]
          },
          "metadata": {},
          "execution_count": 56
        }
      ]
    },
    {
      "cell_type": "markdown",
      "source": [
        "784 pixels -> 28X28"
      ],
      "metadata": {
        "id": "_ci-vkoFcVaf"
      }
    },
    {
      "cell_type": "markdown",
      "metadata": {
        "id": "VjiAb4hYE-nU"
      },
      "source": [
        "### exploring and preparing the dataset"
      ]
    },
    {
      "cell_type": "markdown",
      "metadata": {
        "id": "aeUyk3PqE-nU"
      },
      "source": [
        "#### print your dataset to get insight"
      ]
    },
    {
      "cell_type": "code",
      "execution_count": 58,
      "metadata": {
        "scrolled": true,
        "id": "8YQ6-vOJE-nV",
        "colab": {
          "base_uri": "https://localhost:8080/"
        },
        "outputId": "1b787f04-8469-46e3-d08c-bb7286371364"
      },
      "outputs": [
        {
          "output_type": "stream",
          "name": "stdout",
          "text": [
            "[[0. 0. 0. ... 0. 0. 0.]\n",
            " [0. 0. 0. ... 0. 0. 0.]\n",
            " [0. 0. 0. ... 0. 0. 0.]\n",
            " ...\n",
            " [0. 0. 0. ... 0. 0. 0.]\n",
            " [0. 0. 0. ... 0. 0. 0.]\n",
            " [0. 0. 0. ... 0. 0. 0.]]\n"
          ]
        }
      ],
      "source": [
        "# CODE HERE\n",
        "print(X)"
      ]
    },
    {
      "cell_type": "markdown",
      "metadata": {
        "id": "7wszJQnGE-nW"
      },
      "source": [
        "#### Split you data into data and labels (target)"
      ]
    },
    {
      "cell_type": "code",
      "execution_count": 59,
      "metadata": {
        "id": "xRUqxDvEE-nX"
      },
      "outputs": [],
      "source": [
        "# CODE HERE\n",
        "# X are the data\n",
        "# y are the targets"
      ]
    },
    {
      "cell_type": "markdown",
      "metadata": {
        "id": "mXSM2dc1E-nX"
      },
      "source": [
        "#### find the data shape using .shape function"
      ]
    },
    {
      "cell_type": "code",
      "execution_count": 60,
      "metadata": {
        "id": "J3Q-J4S1E-nY",
        "outputId": "5632c117-e7fe-4931-9237-aa3dd2137b58",
        "colab": {
          "base_uri": "https://localhost:8080/"
        }
      },
      "outputs": [
        {
          "output_type": "execute_result",
          "data": {
            "text/plain": [
              "(70000, 784)"
            ]
          },
          "metadata": {},
          "execution_count": 60
        }
      ],
      "source": [
        "# CODE HERE\n",
        "import numpy as np\n",
        "np.shape(X)"
      ]
    },
    {
      "cell_type": "markdown",
      "metadata": {
        "id": "qVz-nRUME-nY"
      },
      "source": [
        "### Peek at one digit from the dataset"
      ]
    },
    {
      "cell_type": "code",
      "execution_count": 61,
      "metadata": {
        "id": "KaRyjXrDE-nZ"
      },
      "outputs": [],
      "source": [
        "import matplotlib\n",
        "import matplotlib.pyplot as plt"
      ]
    },
    {
      "cell_type": "markdown",
      "metadata": {
        "id": "O94VJt66E-nZ"
      },
      "source": [
        "***NOTE: ALL THE COMMANDS FOR PLOTTING A FIGURE SHOULD ALL GO IN THE SAME CELL. SEPARATING THEM OUT INTO MULTIPLE CELLS MAY CAUSE NOTHING TO SHOW UP.***"
      ]
    },
    {
      "cell_type": "code",
      "execution_count": 62,
      "metadata": {
        "id": "LL8rL-UAE-nZ",
        "outputId": "b81bfe4d-9743-4f92-9b6a-3ee03eb804e7",
        "colab": {
          "base_uri": "https://localhost:8080/",
          "height": 430
        }
      },
      "outputs": [
        {
          "output_type": "display_data",
          "data": {
            "text/plain": [
              "<Figure size 640x480 with 1 Axes>"
            ],
            "image/png": "[encoded data removed]"
          },
          "metadata": {}
        }
      ],
      "source": [
        "# CODE HERE \n",
        "first_image = X[0].reshape(28, 28)\n",
        "\n",
        "# Use matplotlib to visualize the image\n",
        "plt.imshow(first_image, cmap='gray')\n",
        "plt.show()"
      ]
    },
    {
      "cell_type": "code",
      "source": [
        "y[0]"
      ],
      "metadata": {
        "colab": {
          "base_uri": "https://localhost:8080/",
          "height": 36
        },
        "id": "sg-kBzQ4dR2e",
        "outputId": "5cbd0abd-a79f-430b-8b7c-429153532132"
      },
      "execution_count": 63,
      "outputs": [
        {
          "output_type": "execute_result",
          "data": {
            "text/plain": [
              "'5'"
            ],
            "application/vnd.google.colaboratory.intrinsic+json": {
              "type": "string"
            }
          },
          "metadata": {},
          "execution_count": 63
        }
      ]
    },
    {
      "cell_type": "markdown",
      "metadata": {
        "id": "6U9ZN_gsE-na"
      },
      "source": [
        "#### Split the data into train and test set"
      ]
    },
    {
      "cell_type": "code",
      "execution_count": 64,
      "metadata": {
        "id": "Slb0Y5NBE-na"
      },
      "outputs": [],
      "source": [
        "# CODE HERE \n",
        "from sklearn.model_selection import train_test_split\n",
        "X_train, X_test, y_train, y_test = train_test_split(X, y, test_size=0.2, random_state=42)"
      ]
    },
    {
      "cell_type": "markdown",
      "metadata": {
        "id": "5zxAwbXNE-nb"
      },
      "source": [
        "### Shuffling the training set"
      ]
    },
    {
      "cell_type": "code",
      "execution_count": 44,
      "metadata": {
        "id": "MwOtO6XaE-nb"
      },
      "outputs": [],
      "source": [
        "#hint shuffle-vs-permutation-numpy\n",
        "# CODE HERE\n",
        "# from the research the Train split, make shuffle\n",
        "#from sklearn.utils import shuffle\n",
        "#X_train, y_train = shuffle(X_train, y_train, random_state=42)\n"
      ]
    },
    {
      "cell_type": "markdown",
      "metadata": {
        "id": "NoNGSWQBE-nb"
      },
      "source": [
        "#### access the label of the above digit image "
      ]
    },
    {
      "cell_type": "code",
      "source": [
        "first_image = X_train[12].reshape(28, 28)\n",
        "\n",
        "# Use matplotlib to visualize the image\n",
        "plt.imshow(first_image, cmap='gray')\n",
        "plt.show()"
      ],
      "metadata": {
        "colab": {
          "base_uri": "https://localhost:8080/",
          "height": 430
        },
        "id": "kwLPKGiWeVMf",
        "outputId": "0954736c-2d45-44f8-fd8e-6c996f09f199"
      },
      "execution_count": 70,
      "outputs": [
        {
          "output_type": "display_data",
          "data": {
            "text/plain": [
              "<Figure size 640x480 with 1 Axes>"
            ],
            "image/png": "[encoded data removed]"
          },
          "metadata": {}
        }
      ]
    },
    {
      "cell_type": "code",
      "execution_count": 71,
      "metadata": {
        "id": "lffPunM4E-nb",
        "outputId": "ae765bbc-97ae-4f9d-9e10-60488753cf09",
        "colab": {
          "base_uri": "https://localhost:8080/",
          "height": 36
        }
      },
      "outputs": [
        {
          "output_type": "execute_result",
          "data": {
            "text/plain": [
              "'9'"
            ],
            "application/vnd.google.colaboratory.intrinsic+json": {
              "type": "string"
            }
          },
          "metadata": {},
          "execution_count": 71
        }
      ],
      "source": [
        "# CODE HERE\n",
        "y_train[12]"
      ]
    },
    {
      "cell_type": "markdown",
      "metadata": {
        "id": "kGeexcC0E-nc"
      },
      "source": [
        "### Training a <font color= red>Binary</font> classifier \n"
      ]
    },
    {
      "cell_type": "markdown",
      "metadata": {
        "id": "6lm6Y6XWE-nc"
      },
      "source": [
        "#### Create the target vectors for this classification task\n",
        "***NOTE : you can try different number.***"
      ]
    },
    {
      "cell_type": "code",
      "execution_count": 73,
      "metadata": {
        "id": "nLfpUnqVE-nc",
        "colab": {
          "base_uri": "https://localhost:8080/"
        },
        "outputId": "5ecc94af-efbc-443a-c099-f03cd118f5df"
      },
      "outputs": [
        {
          "output_type": "stream",
          "name": "stdout",
          "text": [
            "['5' '4' '8' ... '1' '0' '0']\n"
          ]
        }
      ],
      "source": [
        "# CODE HERE\n",
        "# If you got stuck use GOOGLE\n",
        "# y is the target\n",
        "print(y_train)"
      ]
    },
    {
      "cell_type": "markdown",
      "metadata": {
        "id": "riYbCaHhE-nc"
      },
      "source": [
        "### SGD classifier"
      ]
    },
    {
      "cell_type": "markdown",
      "metadata": {
        "id": "rsNp4rLrE-nd"
      },
      "source": [
        "#### Create a SGD classifier "
      ]
    },
    {
      "cell_type": "code",
      "execution_count": 74,
      "metadata": {
        "id": "rnD_LAYSE-nd"
      },
      "outputs": [],
      "source": [
        "from sklearn.linear_model import SGDClassifier"
      ]
    },
    {
      "cell_type": "code",
      "source": [
        "# classifier to classify its no 5 or not"
      ],
      "metadata": {
        "id": "ldQ5uXFyhzap"
      },
      "execution_count": 76,
      "outputs": []
    },
    {
      "cell_type": "code",
      "execution_count": 77,
      "metadata": {
        "id": "S5E2iRXcE-nd",
        "outputId": "36afefa5-543f-480f-8817-bfc979c8c85a",
        "colab": {
          "base_uri": "https://localhost:8080/",
          "height": 75
        }
      },
      "outputs": [
        {
          "output_type": "execute_result",
          "data": {
            "text/plain": [
              "SGDClassifier(random_state=42)"
            ],
            "text/html": [
              "<style>#sk-container-id-1 {color: black;background-color: white;}#sk-container-id-1 pre{padding: 0;}#sk-container-id-1 div.sk-toggleable {background-color: white;}#sk-container-id-1 label.sk-toggleable__label {cursor: pointer;display: block;width: 100%;margin-bottom: 0;padding: 0.3em;box-sizing: border-box;text-align: center;}#sk-container-id-1 label.sk-toggleable__label-arrow:before {content: \"▸\";float: left;margin-right: 0.25em;color: #696969;}#sk-container-id-1 label.sk-toggleable__label-arrow:hover:before {color: black;}#sk-container-id-1 div.sk-estimator:hover label.sk-toggleable__label-arrow:before {color: black;}#sk-container-id-1 div.sk-toggleable__content {max-height: 0;max-width: 0;overflow: hidden;text-align: left;background-color: #f0f8ff;}#sk-container-id-1 div.sk-toggleable__content pre {margin: 0.2em;color: black;border-radius: 0.25em;background-color: #f0f8ff;}#sk-container-id-1 input.sk-toggleable__control:checked~div.sk-toggleable__content {max-height: 200px;max-width: 100%;overflow: auto;}#sk-container-id-1 input.sk-toggleable__control:checked~label.sk-toggleable__label-arrow:before {content: \"▾\";}#sk-container-id-1 div.sk-estimator input.sk-toggleable__control:checked~label.sk-toggleable__label {background-color: #d4ebff;}#sk-container-id-1 div.sk-label input.sk-toggleable__control:checked~label.sk-toggleable__label {background-color: #d4ebff;}#sk-container-id-1 input.sk-hidden--visually {border: 0;clip: rect(1px 1px 1px 1px);clip: rect(1px, 1px, 1px, 1px);height: 1px;margin: -1px;overflow: hidden;padding: 0;position: absolute;width: 1px;}#sk-container-id-1 div.sk-estimator {font-family: monospace;background-color: #f0f8ff;border: 1px dotted black;border-radius: 0.25em;box-sizing: border-box;margin-bottom: 0.5em;}#sk-container-id-1 div.sk-estimator:hover {background-color: #d4ebff;}#sk-container-id-1 div.sk-parallel-item::after {content: \"\";width: 100%;border-bottom: 1px solid gray;flex-grow: 1;}#sk-container-id-1 div.sk-label:hover label.sk-toggleable__label {background-color: #d4ebff;}#sk-container-id-1 div.sk-serial::before {content: \"\";position: absolute;border-left: 1px solid gray;box-sizing: border-box;top: 0;bottom: 0;left: 50%;z-index: 0;}#sk-container-id-1 div.sk-serial {display: flex;flex-direction: column;align-items: center;background-color: white;padding-right: 0.2em;padding-left: 0.2em;position: relative;}#sk-container-id-1 div.sk-item {position: relative;z-index: 1;}#sk-container-id-1 div.sk-parallel {display: flex;align-items: stretch;justify-content: center;background-color: white;position: relative;}#sk-container-id-1 div.sk-item::before, #sk-container-id-1 div.sk-parallel-item::before {content: \"\";position: absolute;border-left: 1px solid gray;box-sizing: border-box;top: 0;bottom: 0;left: 50%;z-index: -1;}#sk-container-id-1 div.sk-parallel-item {display: flex;flex-direction: column;z-index: 1;position: relative;background-color: white;}#sk-container-id-1 div.sk-parallel-item:first-child::after {align-self: flex-end;width: 50%;}#sk-container-id-1 div.sk-parallel-item:last-child::after {align-self: flex-start;width: 50%;}#sk-container-id-1 div.sk-parallel-item:only-child::after {width: 0;}#sk-container-id-1 div.sk-dashed-wrapped {border: 1px dashed gray;margin: 0 0.4em 0.5em 0.4em;box-sizing: border-box;padding-bottom: 0.4em;background-color: white;}#sk-container-id-1 div.sk-label label {font-family: monospace;font-weight: bold;display: inline-block;line-height: 1.2em;}#sk-container-id-1 div.sk-label-container {text-align: center;}#sk-container-id-1 div.sk-container {/* jupyter's `normalize.less` sets `[hidden] { display: none; }` but bootstrap.min.css set `[hidden] { display: none !important; }` so we also need the `!important` here to be able to override the default hidden behavior on the sphinx rendered scikit-learn.org. See: https://github.com/scikit-learn/scikit-learn/issues/21755 */display: inline-block !important;position: relative;}#sk-container-id-1 div.sk-text-repr-fallback {display: none;}</style><div id=\"sk-container-id-1\" class=\"sk-top-container\"><div class=\"sk-text-repr-fallback\"><pre>SGDClassifier(random_state=42)</pre><b>In a Jupyter environment, please rerun this cell to show the HTML representation or trust the notebook. <br />On GitHub, the HTML representation is unable to render, please try loading this page with nbviewer.org.</b></div><div class=\"sk-container\" hidden><div class=\"sk-item\"><div class=\"sk-estimator sk-toggleable\"><input class=\"sk-toggleable__control sk-hidden--visually\" id=\"sk-estimator-id-1\" type=\"checkbox\" checked><label for=\"sk-estimator-id-1\" class=\"sk-toggleable__label sk-toggleable__label-arrow\">SGDClassifier</label><div class=\"sk-toggleable__content\"><pre>SGDClassifier(random_state=42)</pre></div></div></div></div></div>"
            ]
          },
          "metadata": {},
          "execution_count": 77
        }
      ],
      "source": [
        "# CODE HERE\n",
        "y_train_5 = (y_train == '5')  # True for all 5s, False for all other digits\n",
        "y_test_5 = (y_test == '5')\n",
        "\n",
        "# Create an instance of SGDClassifier\n",
        "sgd_clf = SGDClassifier(random_state=42)\n",
        "\n",
        "# Train the model using the new target vector\n",
        "sgd_clf.fit(X_train, y_train_5)"
      ]
    },
    {
      "cell_type": "markdown",
      "metadata": {
        "id": "5ZeszOPBE-nd"
      },
      "source": [
        "#### use SGD classifier  to detect images of the number 5 "
      ]
    },
    {
      "cell_type": "code",
      "execution_count": 79,
      "metadata": {
        "id": "UpU8FyaLE-ne"
      },
      "outputs": [],
      "source": [
        "# CODE HERE\n",
        "y_pred = sgd_clf.predict(X_test)\n"
      ]
    },
    {
      "cell_type": "code",
      "source": [
        "from sklearn.metrics import confusion_matrix\n",
        "conf_matrix = confusion_matrix(y_test_5, y_pred)\n",
        "\n",
        "print(conf_matrix)"
      ],
      "metadata": {
        "colab": {
          "base_uri": "https://localhost:8080/"
        },
        "id": "H3x9L7aLiWe8",
        "outputId": "598c4c6f-93b4-4896-ab1f-65b702716c82"
      },
      "execution_count": 81,
      "outputs": [
        {
          "output_type": "stream",
          "name": "stdout",
          "text": [
            "[[12620   107]\n",
            " [  334   939]]\n"
          ]
        }
      ]
    },
    {
      "cell_type": "markdown",
      "metadata": {
        "id": "yo-12_h6E-ne"
      },
      "source": [
        "## Performance measure "
      ]
    },
    {
      "cell_type": "markdown",
      "metadata": {
        "id": "Hyo3DTR9E-ne"
      },
      "source": [
        "####  Measuring Accuracy Using <font color= blue>Cross-validation</font>"
      ]
    },
    {
      "cell_type": "code",
      "execution_count": 82,
      "metadata": {
        "id": "BivMTQmtE-ne"
      },
      "outputs": [],
      "source": [
        "from sklearn.model_selection import cross_val_score"
      ]
    },
    {
      "cell_type": "code",
      "execution_count": 83,
      "metadata": {
        "id": "SOEf4NB6E-ne",
        "outputId": "915382e8-4f81-40a0-b802-43ceaba5a14b",
        "colab": {
          "base_uri": "https://localhost:8080/"
        }
      },
      "outputs": [
        {
          "output_type": "execute_result",
          "data": {
            "text/plain": [
              "array([0.97192907, 0.96855413, 0.96024858])"
            ]
          },
          "metadata": {},
          "execution_count": 83
        }
      ],
      "source": [
        "# CODE HERE\n",
        "# Perform cross-validation\n",
        "cross_val_score(sgd_clf, X_train, y_train_5, cv=3, scoring=\"accuracy\")\n"
      ]
    },
    {
      "cell_type": "code",
      "source": [
        "y_test_pred = sgd_clf.predict(X_test)"
      ],
      "metadata": {
        "id": "a3hNK6Buk2o-"
      },
      "execution_count": 90,
      "outputs": []
    },
    {
      "cell_type": "markdown",
      "metadata": {
        "id": "aZ9-7jsWE-nf"
      },
      "source": [
        "#### Try a dumb classifier"
      ]
    },
    {
      "cell_type": "code",
      "execution_count": 84,
      "metadata": {
        "id": "Kfl43AtfE-nf",
        "colab": {
          "base_uri": "https://localhost:8080/"
        },
        "outputId": "c9ffdc44-17e9-455e-908e-9d4da5fa48ba"
      },
      "outputs": [
        {
          "output_type": "execute_result",
          "data": {
            "text/plain": [
              "array([0.91107302, 0.90914448, 0.90978249])"
            ]
          },
          "metadata": {},
          "execution_count": 84
        }
      ],
      "source": [
        "# CODE HERE\n",
        "# dumb clssifier is NB\n",
        "from sklearn.base import BaseEstimator\n",
        "from sklearn.model_selection import cross_val_score\n",
        "\n",
        "class Never5Classifier(BaseEstimator):\n",
        "    def fit(self, X, y=None):\n",
        "        pass\n",
        "    def predict(self, X):\n",
        "        return np.zeros((len(X), 1), dtype=bool)\n",
        "\n",
        "# Create an instance of the dumb classifier and evaluate its accuracy\n",
        "never_5_clf = Never5Classifier()\n",
        "cross_val_score(never_5_clf, X_train, y_train_5, cv=3, scoring=\"accuracy\")\n",
        "\n",
        "\n"
      ]
    },
    {
      "cell_type": "markdown",
      "metadata": {
        "id": "2fxn3SCOE-nf"
      },
      "source": [
        "#### find cross_val_score for the dumb classifier"
      ]
    },
    {
      "cell_type": "code",
      "execution_count": 85,
      "metadata": {
        "id": "CAGrXh9LE-nf"
      },
      "outputs": [],
      "source": [
        "#CODE HERE\n",
        "# shown above"
      ]
    },
    {
      "cell_type": "markdown",
      "metadata": {
        "id": "ZxsgvvZuE-nf"
      },
      "source": [
        "## Confusion matrix"
      ]
    },
    {
      "cell_type": "code",
      "execution_count": 86,
      "metadata": {
        "id": "PJZIIoBVE-ng"
      },
      "outputs": [],
      "source": [
        "from sklearn.model_selection import cross_val_predict\n",
        "from sklearn.metrics import confusion_matrix"
      ]
    },
    {
      "cell_type": "markdown",
      "metadata": {
        "id": "0sypFTIsE-ng"
      },
      "source": [
        "#### try to find confusion matrix "
      ]
    },
    {
      "cell_type": "code",
      "execution_count": 87,
      "metadata": {
        "id": "QRk-VorzE-ng",
        "outputId": "0eb84c90-72fc-4c3a-fc5e-d9a7ff11443b",
        "colab": {
          "base_uri": "https://localhost:8080/"
        }
      },
      "outputs": [
        {
          "output_type": "stream",
          "name": "stdout",
          "text": [
            "[[12727     0]\n",
            " [ 1273     0]]\n"
          ]
        }
      ],
      "source": [
        "# CODE HERE\n",
        "y_pred = never_5_clf.predict(X_test)\n",
        "conf_matrix = confusion_matrix(y_test_5, y_pred)\n",
        "\n",
        "print(conf_matrix)"
      ]
    },
    {
      "cell_type": "markdown",
      "metadata": {
        "id": "q36CJB9BE-ng"
      },
      "source": [
        "####  try perfect classifier which will have only true positives and true negative\n"
      ]
    },
    {
      "cell_type": "code",
      "execution_count": 88,
      "metadata": {
        "id": "iDNGR4riE-ng",
        "outputId": "fb9dc86b-8c74-429c-88e7-1f3c8dfbed9c",
        "colab": {
          "base_uri": "https://localhost:8080/"
        }
      },
      "outputs": [
        {
          "output_type": "stream",
          "name": "stdout",
          "text": [
            "[[12727     0]\n",
            " [    0  1273]]\n"
          ]
        }
      ],
      "source": [
        "# CODE HERE\n",
        "y_test_perfect_predictions = y_test_5\n",
        "\n",
        "# Compute the confusion matrix\n",
        "conf_matrix = confusion_matrix(y_test_5, y_test_perfect_predictions)\n",
        "\n",
        "print(conf_matrix)"
      ]
    },
    {
      "cell_type": "markdown",
      "metadata": {
        "id": "8hoP0eDuE-nh"
      },
      "source": [
        "## Precision and Recall"
      ]
    },
    {
      "cell_type": "code",
      "execution_count": 89,
      "metadata": {
        "id": "vHU8q8_jE-nh"
      },
      "outputs": [],
      "source": [
        "from sklearn.metrics import precision_score, recall_score,f1_score"
      ]
    },
    {
      "cell_type": "code",
      "source": [
        "y_test_pred = sgd_clf.predict(X_test)"
      ],
      "metadata": {
        "id": "0BxAVw3Mk8sJ"
      },
      "execution_count": 91,
      "outputs": []
    },
    {
      "cell_type": "markdown",
      "metadata": {
        "id": "kFo7wWExE-nh"
      },
      "source": [
        "***Note that precision and recall score might be different from one to anothor***"
      ]
    },
    {
      "cell_type": "markdown",
      "metadata": {
        "id": "MUX0hF_7E-nh"
      },
      "source": [
        "#### find precision score"
      ]
    },
    {
      "cell_type": "code",
      "execution_count": 92,
      "metadata": {
        "id": "OXA3my0BE-nh",
        "outputId": "6a21fc26-9d58-4c9b-a924-054ceee93e2f",
        "colab": {
          "base_uri": "https://localhost:8080/"
        }
      },
      "outputs": [
        {
          "output_type": "execute_result",
          "data": {
            "text/plain": [
              "0.8977055449330784"
            ]
          },
          "metadata": {},
          "execution_count": 92
        }
      ],
      "source": [
        "# CODE HERE\n",
        "precision = precision_score(y_test_5, y_test_pred)\n",
        "precision "
      ]
    },
    {
      "cell_type": "markdown",
      "metadata": {
        "id": "1OPOFdJBE-nh"
      },
      "source": [
        "#### find recall score"
      ]
    },
    {
      "cell_type": "code",
      "execution_count": 94,
      "metadata": {
        "id": "GIrFJpusE-nh",
        "outputId": "36a13d55-ccc7-4824-a5bf-c098f8de3147",
        "colab": {
          "base_uri": "https://localhost:8080/"
        }
      },
      "outputs": [
        {
          "output_type": "execute_result",
          "data": {
            "text/plain": [
              "0.7376276512175962"
            ]
          },
          "metadata": {},
          "execution_count": 94
        }
      ],
      "source": [
        "# CODE HERE\n",
        "recall = recall_score(y_test_5, y_test_pred)\n",
        "recall"
      ]
    },
    {
      "cell_type": "markdown",
      "metadata": {
        "id": "J-T11IWEE-ni"
      },
      "source": [
        "#### find f1 score \n",
        "***Notice that f1 score is harmonic mean between recall and precision***"
      ]
    },
    {
      "cell_type": "code",
      "execution_count": 95,
      "metadata": {
        "id": "Ef33f4lIE-ni",
        "outputId": "8d7f6667-3bbd-4f99-b63b-aa1bac1527be",
        "colab": {
          "base_uri": "https://localhost:8080/"
        }
      },
      "outputs": [
        {
          "output_type": "execute_result",
          "data": {
            "text/plain": [
              "0.8098318240620959"
            ]
          },
          "metadata": {},
          "execution_count": 95
        }
      ],
      "source": [
        "# CODE HERE\n",
        "f1 = f1_score(y_test_5, y_test_pred)\n",
        "f1"
      ]
    },
    {
      "cell_type": "markdown",
      "metadata": {
        "id": "6KbUjdpyE-ni"
      },
      "source": [
        "# Precision/Recall Tradeof"
      ]
    },
    {
      "cell_type": "markdown",
      "metadata": {
        "id": "nnlKL2zsE-ni"
      },
      "source": [
        "#### try to use decision_function() and make prediction"
      ]
    },
    {
      "cell_type": "code",
      "execution_count": 96,
      "metadata": {
        "id": "4wb4EuY3E-ni"
      },
      "outputs": [],
      "source": [
        "# CODE HERE\n",
        "# Get the scores from the decision function\n",
        "y_scores = sgd_clf.decision_function(X_test)"
      ]
    },
    {
      "cell_type": "markdown",
      "metadata": {
        "id": "gQAXIgiRE-ni"
      },
      "source": [
        "#### Set the threshold to zero"
      ]
    },
    {
      "cell_type": "code",
      "execution_count": 97,
      "metadata": {
        "id": "LIm7gfqiE-ni"
      },
      "outputs": [],
      "source": [
        "# CODE HERE\n",
        "# Set a threshold and make predictions based on the scores\n",
        "threshold = 0\n",
        "y_test_pred = (y_scores > threshold)\n"
      ]
    },
    {
      "cell_type": "code",
      "source": [
        "np.bincount(y_test_pred)"
      ],
      "metadata": {
        "colab": {
          "base_uri": "https://localhost:8080/"
        },
        "id": "siXbVtILl0vp",
        "outputId": "4d98d59d-09be-4a4a-de44-f8d615c040d5"
      },
      "execution_count": 102,
      "outputs": [
        {
          "output_type": "execute_result",
          "data": {
            "text/plain": [
              "array([12954,  1046])"
            ]
          },
          "metadata": {},
          "execution_count": 102
        }
      ]
    },
    {
      "cell_type": "code",
      "source": [
        "class_counts = np.bincount(y_test_pred.astype(int))\n",
        "print(\"Count for Class False (not-5): \", class_counts[0])\n",
        "print(\"Count for Class True (5): \", class_counts[1])\n"
      ],
      "metadata": {
        "colab": {
          "base_uri": "https://localhost:8080/"
        },
        "id": "YLWzsWW6mK-m",
        "outputId": "24d25b93-ba0f-4676-eaca-fc7fd415e164"
      },
      "execution_count": 103,
      "outputs": [
        {
          "output_type": "stream",
          "name": "stdout",
          "text": [
            "Count for Class False (not-5):  12954\n",
            "Count for Class True (5):  1046\n"
          ]
        }
      ]
    },
    {
      "cell_type": "markdown",
      "metadata": {
        "id": "4NCTWqOoE-nj"
      },
      "source": [
        "#### Set the threshold to 200000"
      ]
    },
    {
      "cell_type": "code",
      "execution_count": 104,
      "metadata": {
        "id": "wjmTRqKqE-nj"
      },
      "outputs": [],
      "source": [
        "# CODE HERE\n",
        "threshold =  200000\n",
        "y_test_pred = (y_scores > threshold)"
      ]
    },
    {
      "cell_type": "code",
      "source": [
        "np.bincount(y_test_pred.astype(int))\n"
      ],
      "metadata": {
        "colab": {
          "base_uri": "https://localhost:8080/"
        },
        "id": "87otYrXYmuoP",
        "outputId": "d1aa0f7d-d614-459e-8f3e-264ce6f16c86"
      },
      "execution_count": 106,
      "outputs": [
        {
          "output_type": "execute_result",
          "data": {
            "text/plain": [
              "array([14000])"
            ]
          },
          "metadata": {},
          "execution_count": 106
        }
      ]
    },
    {
      "cell_type": "code",
      "source": [
        "# it counts all as 5"
      ],
      "metadata": {
        "id": "Q3MZa64Jm3il"
      },
      "execution_count": 107,
      "outputs": []
    },
    {
      "cell_type": "markdown",
      "metadata": {
        "id": "iUWD6X8iE-nj"
      },
      "source": [
        "#### To decide which threshold you want to use find decision scores for all instances"
      ]
    },
    {
      "cell_type": "code",
      "execution_count": 108,
      "metadata": {
        "id": "tC3mbQSeE-nj"
      },
      "outputs": [],
      "source": [
        "# CODE HERE\n",
        "from sklearn.metrics import precision_recall_curve\n",
        "from sklearn.model_selection import cross_val_predict\n",
        "\n",
        "# Get the scores of all instances in the training set\n",
        "y_scores = cross_val_predict(sgd_clf, X_train, y_train_5, cv=3,\n",
        "                             method=\"decision_function\")\n",
        "\n",
        "# Compute precision and recall for all possible thresholds\n",
        "precisions, recalls, thresholds = precision_recall_curve(y_train_5, y_scores)\n"
      ]
    },
    {
      "cell_type": "markdown",
      "metadata": {
        "id": "e0EoSH7vE-nj"
      },
      "source": [
        "#### computing precision and recall for all possible thresholds using the precision_recall_curve() "
      ]
    },
    {
      "cell_type": "markdown",
      "metadata": {
        "id": "oKeFP2avE-nj"
      },
      "source": [
        "#### plot precision and recall as functions of the threshold value using Matplotlib"
      ]
    },
    {
      "cell_type": "code",
      "source": [
        "import matplotlib.pyplot as plt\n",
        "\n",
        "plt.plot(thresholds, precisions[:-1], \"b--\", label=\"Precision\")\n",
        "plt.plot(thresholds, recalls[:-1], \"g-\", label=\"Recall\")\n",
        "plt.legend(loc=\"center right\", fontsize=16)\n",
        "plt.xlabel(\"Threshold\", fontsize=16)\n",
        "plt.grid(True)\n",
        "plt.show()"
      ],
      "metadata": {
        "colab": {
          "base_uri": "https://localhost:8080/",
          "height": 455
        },
        "id": "6LZVk2RknqpL",
        "outputId": "82ebfdbd-f853-4f20-86f1-d40836f8633c"
      },
      "execution_count": 110,
      "outputs": [
        {
          "output_type": "display_data",
          "data": {
            "text/plain": [
              "<Figure size 640x480 with 1 Axes>"
            ],
            "image/png": "[encoded data removed]"
          },
          "metadata": {}
        }
      ]
    },
    {
      "cell_type": "markdown",
      "metadata": {
        "id": "77zzddmIE-nk"
      },
      "source": [
        "#### lets aim for 90%recall \n",
        "#### try different threshold and see what will happen"
      ]
    },
    {
      "cell_type": "code",
      "source": [
        "# Find the lowest threshold that gives at least 90% recall\n",
        "threshold_90_recall = thresholds[np.argmax(recalls >= 0.90)]\n",
        "\n",
        "# Make predictions using this threshold\n",
        "y_train_pred_90 = (y_scores >= threshold_90_recall)\n"
      ],
      "metadata": {
        "id": "6gIt1xxFn9U5"
      },
      "execution_count": 111,
      "outputs": []
    },
    {
      "cell_type": "markdown",
      "metadata": {
        "id": "sjdrO14-E-nk"
      },
      "source": [
        "#### precision score"
      ]
    },
    {
      "cell_type": "code",
      "execution_count": 112,
      "metadata": {
        "id": "T6L60BJeE-nk",
        "outputId": "364dc329-1ad9-46cf-c683-71a5039e5987",
        "colab": {
          "base_uri": "https://localhost:8080/"
        }
      },
      "outputs": [
        {
          "output_type": "stream",
          "name": "stdout",
          "text": [
            "Precision:  0.09\n"
          ]
        }
      ],
      "source": [
        "# CODE HERE\n",
        "print(\"Precision: \", precision_score(y_train_5, y_train_pred_90))"
      ]
    },
    {
      "cell_type": "markdown",
      "metadata": {
        "id": "Cl0rxwxJE-nk"
      },
      "source": [
        "#### recall score"
      ]
    },
    {
      "cell_type": "code",
      "execution_count": 113,
      "metadata": {
        "id": "sCmcd878E-nk",
        "outputId": "7a0cc446-ef7c-4877-9d27-20cee88f588c",
        "colab": {
          "base_uri": "https://localhost:8080/"
        }
      },
      "outputs": [
        {
          "output_type": "stream",
          "name": "stdout",
          "text": [
            "Recall:  1.0\n"
          ]
        }
      ],
      "source": [
        "#CODE HERE\n",
        "print(\"Recall: \", recall_score(y_train_5, y_train_pred_90))"
      ]
    },
    {
      "cell_type": "markdown",
      "metadata": {
        "id": "PHlUr3aWE-nl"
      },
      "source": [
        "# The ROC Curve"
      ]
    },
    {
      "cell_type": "code",
      "execution_count": 114,
      "metadata": {
        "id": "jLEDQ7PHE-nl"
      },
      "outputs": [],
      "source": [
        "from sklearn.metrics import roc_curve\n",
        "fpr, tpr, thresholds = roc_curve(y_train_5, y_scores)"
      ]
    },
    {
      "cell_type": "markdown",
      "metadata": {
        "id": "UXrgOUUQE-nl"
      },
      "source": [
        "#### plot the FPR against the TPR using Matplotlib"
      ]
    },
    {
      "cell_type": "code",
      "execution_count": 116,
      "metadata": {
        "id": "qp9umBtuE-nl",
        "outputId": "3a98e57e-ec15-4f09-b9da-58e5116b3400",
        "colab": {
          "base_uri": "https://localhost:8080/",
          "height": 553
        }
      },
      "outputs": [
        {
          "output_type": "display_data",
          "data": {
            "text/plain": [
              "<Figure size 800x600 with 1 Axes>"
            ],
            "image/png": "[encoded data removed]"
          },
          "metadata": {}
        }
      ],
      "source": [
        "# CODE HERE\n",
        "plt.figure(figsize=(8, 6))\n",
        "plt.plot(fpr, tpr, linewidth=2)\n",
        "plt.plot([0, 1], [0, 1], 'k--')  # Dashed diagonal\n",
        "plt.axis([0, 1, 0, 1])           # Not shown in the book\n",
        "plt.xlabel('False Positive Rate (Fall-Out)', fontsize=16) \n",
        "plt.ylabel('True Positive Rate (Recall)', fontsize=16)                                               \n",
        "plt.show()"
      ]
    },
    {
      "cell_type": "markdown",
      "metadata": {
        "id": "V_bz3jvTE-nl"
      },
      "source": [
        "#### computing the ROC AUC score"
      ]
    },
    {
      "cell_type": "code",
      "execution_count": 117,
      "metadata": {
        "id": "8gT8Y3MiE-nl",
        "outputId": "d91955e6-922a-4943-8c1e-65db9ae98bf9",
        "colab": {
          "base_uri": "https://localhost:8080/"
        }
      },
      "outputs": [
        {
          "output_type": "execute_result",
          "data": {
            "text/plain": [
              "0.9672937302210262"
            ]
          },
          "metadata": {},
          "execution_count": 117
        }
      ],
      "source": [
        "from sklearn.metrics import roc_auc_score\n",
        "roc_auc_score(y_train_5, y_scores)"
      ]
    },
    {
      "cell_type": "markdown",
      "metadata": {
        "id": "-zYLV_--E-nl"
      },
      "source": [
        "# RandomForest Classifier\n",
        "#### train a RandomForestClassifier and compare its ROC curve and ROC AUC score to the SGDClassifier"
      ]
    },
    {
      "cell_type": "code",
      "execution_count": 118,
      "metadata": {
        "id": "0l35HXdlE-nl"
      },
      "outputs": [],
      "source": [
        "from sklearn.ensemble import RandomForestClassifier"
      ]
    },
    {
      "cell_type": "code",
      "execution_count": 119,
      "metadata": {
        "id": "WcPwO_32E-nm",
        "colab": {
          "base_uri": "https://localhost:8080/",
          "height": 75
        },
        "outputId": "ba643ced-6784-47a8-fba8-9f80bd8ff43f"
      },
      "outputs": [
        {
          "output_type": "execute_result",
          "data": {
            "text/plain": [
              "RandomForestClassifier(random_state=42)"
            ],
            "text/html": [
              "<style>#sk-container-id-2 {color: black;background-color: white;}#sk-container-id-2 pre{padding: 0;}#sk-container-id-2 div.sk-toggleable {background-color: white;}#sk-container-id-2 label.sk-toggleable__label {cursor: pointer;display: block;width: 100%;margin-bottom: 0;padding: 0.3em;box-sizing: border-box;text-align: center;}#sk-container-id-2 label.sk-toggleable__label-arrow:before {content: \"▸\";float: left;margin-right: 0.25em;color: #696969;}#sk-container-id-2 label.sk-toggleable__label-arrow:hover:before {color: black;}#sk-container-id-2 div.sk-estimator:hover label.sk-toggleable__label-arrow:before {color: black;}#sk-container-id-2 div.sk-toggleable__content {max-height: 0;max-width: 0;overflow: hidden;text-align: left;background-color: #f0f8ff;}#sk-container-id-2 div.sk-toggleable__content pre {margin: 0.2em;color: black;border-radius: 0.25em;background-color: #f0f8ff;}#sk-container-id-2 input.sk-toggleable__control:checked~div.sk-toggleable__content {max-height: 200px;max-width: 100%;overflow: auto;}#sk-container-id-2 input.sk-toggleable__control:checked~label.sk-toggleable__label-arrow:before {content: \"▾\";}#sk-container-id-2 div.sk-estimator input.sk-toggleable__control:checked~label.sk-toggleable__label {background-color: #d4ebff;}#sk-container-id-2 div.sk-label input.sk-toggleable__control:checked~label.sk-toggleable__label {background-color: #d4ebff;}#sk-container-id-2 input.sk-hidden--visually {border: 0;clip: rect(1px 1px 1px 1px);clip: rect(1px, 1px, 1px, 1px);height: 1px;margin: -1px;overflow: hidden;padding: 0;position: absolute;width: 1px;}#sk-container-id-2 div.sk-estimator {font-family: monospace;background-color: #f0f8ff;border: 1px dotted black;border-radius: 0.25em;box-sizing: border-box;margin-bottom: 0.5em;}#sk-container-id-2 div.sk-estimator:hover {background-color: #d4ebff;}#sk-container-id-2 div.sk-parallel-item::after {content: \"\";width: 100%;border-bottom: 1px solid gray;flex-grow: 1;}#sk-container-id-2 div.sk-label:hover label.sk-toggleable__label {background-color: #d4ebff;}#sk-container-id-2 div.sk-serial::before {content: \"\";position: absolute;border-left: 1px solid gray;box-sizing: border-box;top: 0;bottom: 0;left: 50%;z-index: 0;}#sk-container-id-2 div.sk-serial {display: flex;flex-direction: column;align-items: center;background-color: white;padding-right: 0.2em;padding-left: 0.2em;position: relative;}#sk-container-id-2 div.sk-item {position: relative;z-index: 1;}#sk-container-id-2 div.sk-parallel {display: flex;align-items: stretch;justify-content: center;background-color: white;position: relative;}#sk-container-id-2 div.sk-item::before, #sk-container-id-2 div.sk-parallel-item::before {content: \"\";position: absolute;border-left: 1px solid gray;box-sizing: border-box;top: 0;bottom: 0;left: 50%;z-index: -1;}#sk-container-id-2 div.sk-parallel-item {display: flex;flex-direction: column;z-index: 1;position: relative;background-color: white;}#sk-container-id-2 div.sk-parallel-item:first-child::after {align-self: flex-end;width: 50%;}#sk-container-id-2 div.sk-parallel-item:last-child::after {align-self: flex-start;width: 50%;}#sk-container-id-2 div.sk-parallel-item:only-child::after {width: 0;}#sk-container-id-2 div.sk-dashed-wrapped {border: 1px dashed gray;margin: 0 0.4em 0.5em 0.4em;box-sizing: border-box;padding-bottom: 0.4em;background-color: white;}#sk-container-id-2 div.sk-label label {font-family: monospace;font-weight: bold;display: inline-block;line-height: 1.2em;}#sk-container-id-2 div.sk-label-container {text-align: center;}#sk-container-id-2 div.sk-container {/* jupyter's `normalize.less` sets `[hidden] { display: none; }` but bootstrap.min.css set `[hidden] { display: none !important; }` so we also need the `!important` here to be able to override the default hidden behavior on the sphinx rendered scikit-learn.org. See: https://github.com/scikit-learn/scikit-learn/issues/21755 */display: inline-block !important;position: relative;}#sk-container-id-2 div.sk-text-repr-fallback {display: none;}</style><div id=\"sk-container-id-2\" class=\"sk-top-container\"><div class=\"sk-text-repr-fallback\"><pre>RandomForestClassifier(random_state=42)</pre><b>In a Jupyter environment, please rerun this cell to show the HTML representation or trust the notebook. <br />On GitHub, the HTML representation is unable to render, please try loading this page with nbviewer.org.</b></div><div class=\"sk-container\" hidden><div class=\"sk-item\"><div class=\"sk-estimator sk-toggleable\"><input class=\"sk-toggleable__control sk-hidden--visually\" id=\"sk-estimator-id-2\" type=\"checkbox\" checked><label for=\"sk-estimator-id-2\" class=\"sk-toggleable__label sk-toggleable__label-arrow\">RandomForestClassifier</label><div class=\"sk-toggleable__content\"><pre>RandomForestClassifier(random_state=42)</pre></div></div></div></div></div>"
            ]
          },
          "metadata": {},
          "execution_count": 119
        }
      ],
      "source": [
        "# CODE HERE\n",
        "forest_clf = RandomForestClassifier(random_state=42)\n",
        "\n",
        "# Fit the model to the training data\n",
        "forest_clf.fit(X_train, y_train_5)"
      ]
    },
    {
      "cell_type": "markdown",
      "metadata": {
        "id": "LFZq8OSmE-nm"
      },
      "source": [
        "#### try to plot ROC \n",
        "***Notice that you will need scores not probabilities***"
      ]
    },
    {
      "cell_type": "code",
      "execution_count": 121,
      "metadata": {
        "id": "KIwwxJ7bE-nm",
        "outputId": "e9c5e807-e433-444c-84bb-2ea0119d5d28",
        "colab": {
          "base_uri": "https://localhost:8080/",
          "height": 553
        }
      },
      "outputs": [
        {
          "output_type": "display_data",
          "data": {
            "text/plain": [
              "<Figure size 800x600 with 1 Axes>"
            ],
            "image/png": "[encoded data removed]"
          },
          "metadata": {}
        }
      ],
      "source": [
        "# CODE HERE\n",
        "# if you got suck use GOOGLE\n",
        "y_probas_forest = forest_clf.predict_proba(X_train)[:, 1]\n",
        "\n",
        "# Compute FPR, TPR, and thresholds\n",
        "fpr_forest, tpr_forest, thresholds_forest = roc_curve(y_train_5, y_probas_forest)\n",
        "\n",
        "# Plot FPR against TPR\n",
        "plt.figure(figsize=(8, 6))\n",
        "plt.plot(fpr_forest, tpr_forest, \"b:\", label=\"Random Forest\")\n",
        "plt.plot([0, 1], [0, 1], 'k--')  # Dashed diagonal\n",
        "plt.axis([0, 1, 0, 1])           \n",
        "plt.xlabel('False Positive Rate (Fall-Out)', fontsize=16) \n",
        "plt.ylabel('True Positive Rate (Recall)', fontsize=16)                                              \n",
        "plt.legend(loc=\"lower right\")\n",
        "plt.show()"
      ]
    },
    {
      "cell_type": "markdown",
      "metadata": {
        "id": "OY6V1JYLE-nm"
      },
      "source": [
        "#### find ROC AUC score for randomforestclassifier"
      ]
    },
    {
      "cell_type": "code",
      "execution_count": 122,
      "metadata": {
        "id": "4gg9utkIE-nm",
        "outputId": "dd6f0597-1d7e-4e7c-f998-b07b32830275",
        "colab": {
          "base_uri": "https://localhost:8080/"
        }
      },
      "outputs": [
        {
          "output_type": "execute_result",
          "data": {
            "text/plain": [
              "1.0"
            ]
          },
          "metadata": {},
          "execution_count": 122
        }
      ],
      "source": [
        "# CODE HERE \n",
        "roc_auc_score(y_train_5, y_probas_forest)"
      ]
    },
    {
      "cell_type": "markdown",
      "metadata": {
        "id": "dB0CM3_3E-nm"
      },
      "source": [
        "\n",
        "# Congrats you did it 🥳 !\n",
        "# #shAI_Club"
      ]
    }
  ],
  "metadata": {
    "kernelspec": {
      "display_name": "Python 3",
      "language": "python",
      "name": "python3"
    },
    "language_info": {
      "codemirror_mode": {
        "name": "ipython",
        "version": 3
      },
      "file_extension": ".py",
      "mimetype": "text/x-python",
      "name": "python",
      "nbconvert_exporter": "python",
      "pygments_lexer": "ipython3",
      "version": "3.7.9"
    },
    "colab": {
      "provenance": [],
      "collapsed_sections": [
        "6U9ZN_gsE-na",
        "NoNGSWQBE-nb",
        "6lm6Y6XWE-nc",
        "rsNp4rLrE-nd",
        "5ZeszOPBE-nd",
        "Hyo3DTR9E-ne",
        "aZ9-7jsWE-nf",
        "2fxn3SCOE-nf",
        "0sypFTIsE-ng",
        "q36CJB9BE-ng",
        "MUX0hF_7E-nh",
        "1OPOFdJBE-nh",
        "J-T11IWEE-ni",
        "nnlKL2zsE-ni",
        "gQAXIgiRE-ni",
        "4NCTWqOoE-nj",
        "iUWD6X8iE-nj",
        "e0EoSH7vE-nj",
        "oKeFP2avE-nj",
        "77zzddmIE-nk",
        "sjdrO14-E-nk",
        "Cl0rxwxJE-nk",
        "UXrgOUUQE-nl",
        "V_bz3jvTE-nl",
        "LFZq8OSmE-nm",
        "OY6V1JYLE-nm"
      ]
    }
  },
  "nbformat": 4,
  "nbformat_minor": 0
}